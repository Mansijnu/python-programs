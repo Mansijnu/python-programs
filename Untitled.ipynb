{
 "cells": [
  {
   "cell_type": "code",
   "execution_count": null,
   "metadata": {},
   "outputs": [
    {
     "name": "stdout",
     "output_type": "stream",
     "text": [
      "enter the day4\n",
      "wednesday\n"
     ]
    }
   ],
   "source": [
    "while(1):\n",
    "    n=int(input(\"enter the day\"))\n",
    "    if(n==1):\n",
    "        print('sunday')\n",
    "    elif(n==2):\n",
    "        print('monday')\n",
    "    elif(n==3):\n",
    "        print('tuesday')\n",
    "    elif(n==4):\n",
    "        print('wednesday')\n",
    "    elif(n==5):\n",
    "        print('thursday')\n",
    "    elif(n==6):\n",
    "        print ('friday')\n",
    "    elif(n==7):\n",
    "        print('saturday')\n",
    "    else:\n",
    "        print('wrong input')"
   ]
  },
  {
   "cell_type": "code",
   "execution_count": 5,
   "metadata": {},
   "outputs": [
    {
     "name": "stdout",
     "output_type": "stream",
     "text": [
      "enter the nameMaNsI\n",
      "mAnSi\n"
     ]
    }
   ],
   "source": [
    "#QUESTION2\n",
    "string=input(\"enter the name\")\n",
    "new=''\n",
    "for i in range(0,len(string),1):\n",
    "    if(string[i].isupper()):\n",
    "        new+=string[i].lower()\n",
    "    else:\n",
    "        new+=string[i].upper()\n",
    "print(new)"
   ]
  },
  {
   "cell_type": "code",
   "execution_count": 9,
   "metadata": {},
   "outputs": [
    {
     "name": "stdout",
     "output_type": "stream",
     "text": [
      "enter the number5\n",
      "factorial is 120\n"
     ]
    }
   ],
   "source": [
    "#QUESTION3\n",
    "a=int(input(\"enter the number\"))\n",
    "fact=1\n",
    "for i in range(a,1,-1):\n",
    "    fact=fact*i\n",
    "print(\"factorial is\",fact)\n"
   ]
  },
  {
   "cell_type": "code",
   "execution_count": 6,
   "metadata": {},
   "outputs": [
    {
     "name": "stdout",
     "output_type": "stream",
     "text": [
      "enter the number121\n",
      "it is a palindrome\n"
     ]
    }
   ],
   "source": [
    "#question4\n",
    "string=input(\"enter the number\")\n",
    "revstr=''\n",
    "for i in range(len(string)-1,-1,-1):\n",
    "    revstr+=string[i]\n",
    "if(revstr==string):\n",
    "    print('it is a palindrome')\n",
    "else:\n",
    "    print('not a palindrome')\n"
   ]
  },
  {
   "cell_type": "code",
   "execution_count": 16,
   "metadata": {},
   "outputs": [
    {
     "name": "stdout",
     "output_type": "stream",
     "text": [
      "enter the number5\n",
      "factorial is: 120\n",
      "no of trailing zeroes is: 1\n"
     ]
    }
   ],
   "source": [
    "#question7\n",
    "a=int(input(\"enter the number\"))\n",
    "fact=1\n",
    "for i in range(a,1,-1):\n",
    "    fact=fact*i\n",
    "print(\"factorial is:\",fact)\n",
    "count=0\n",
    "b=5\n",
    "while(a/b>=1):\n",
    "    count+=int(a/b)\n",
    "    b*=5\n",
    "print(\"no of trailing zeroes is:\",count)\n"
   ]
  },
  {
   "cell_type": "code",
   "execution_count": 14,
   "metadata": {},
   "outputs": [
    {
     "name": "stdout",
     "output_type": "stream",
     "text": [
      "enter the no.153\n",
      "it is armstrong\n"
     ]
    }
   ],
   "source": [
    "#question8\n",
    "string=input(\"enter the no.\")\n",
    "c=int(string)\n",
    "d=0\n",
    "for i in range(0,len(string),1):\n",
    "    d+=int(string[i])**len(string)\n",
    "\n",
    "if(d==c):\n",
    "    print('it is armstrong')\n",
    "else:\n",
    "    print('it is not armstrong')\n"
   ]
  },
  {
   "cell_type": "code",
   "execution_count": null,
   "metadata": {},
   "outputs": [],
   "source": []
  },
  {
   "cell_type": "code",
   "execution_count": null,
   "metadata": {},
   "outputs": [],
   "source": []
  }
 ],
 "metadata": {
  "kernelspec": {
   "display_name": "Python 3",
   "language": "python",
   "name": "python3"
  }
 },
 "nbformat": 4,
 "nbformat_minor": 2
}
